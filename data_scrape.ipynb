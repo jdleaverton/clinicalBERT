{
 "cells": [
  {
   "cell_type": "code",
   "execution_count": 1,
   "id": "398b90cd",
   "metadata": {},
   "outputs": [
    {
     "name": "stdout",
     "output_type": "stream",
     "text": [
      "Requirement already satisfied: pandas in c:\\users\\jd\\anaconda3\\lib\\site-packages (1.4.4)\n",
      "Requirement already satisfied: pytz>=2020.1 in c:\\users\\jd\\anaconda3\\lib\\site-packages (from pandas) (2022.1)\n",
      "Requirement already satisfied: python-dateutil>=2.8.1 in c:\\users\\jd\\anaconda3\\lib\\site-packages (from pandas) (2.8.2)\n",
      "Requirement already satisfied: numpy>=1.18.5 in c:\\users\\jd\\anaconda3\\lib\\site-packages (from pandas) (1.21.5)\n",
      "Requirement already satisfied: six>=1.5 in c:\\users\\jd\\anaconda3\\lib\\site-packages (from python-dateutil>=2.8.1->pandas) (1.16.0)\n",
      "Requirement already satisfied: utils in c:\\users\\jd\\anaconda3\\lib\\site-packages (1.0.1)\n",
      "Requirement already satisfied: beautifulsoup4 in c:\\users\\jd\\anaconda3\\lib\\site-packages (4.11.1)\n",
      "Requirement already satisfied: soupsieve>1.2 in c:\\users\\jd\\anaconda3\\lib\\site-packages (from beautifulsoup4) (2.3.1)\n",
      "Requirement already satisfied: requests in c:\\users\\jd\\anaconda3\\lib\\site-packages (2.28.1)\n",
      "Requirement already satisfied: charset-normalizer<3,>=2 in c:\\users\\jd\\anaconda3\\lib\\site-packages (from requests) (2.0.4)\n",
      "Requirement already satisfied: certifi>=2017.4.17 in c:\\users\\jd\\anaconda3\\lib\\site-packages (from requests) (2022.9.14)\n",
      "Requirement already satisfied: idna<4,>=2.5 in c:\\users\\jd\\anaconda3\\lib\\site-packages (from requests) (3.3)\n",
      "Requirement already satisfied: urllib3<1.27,>=1.21.1 in c:\\users\\jd\\anaconda3\\lib\\site-packages (from requests) (1.26.11)\n",
      "Requirement already satisfied: retrying in c:\\users\\jd\\anaconda3\\lib\\site-packages (1.3.4)\n",
      "Requirement already satisfied: six>=1.7.0 in c:\\users\\jd\\anaconda3\\lib\\site-packages (from retrying) (1.16.0)\n",
      "Requirement already satisfied: pysocks in c:\\users\\jd\\anaconda3\\lib\\site-packages (1.7.1)\n"
     ]
    }
   ],
   "source": [
    "!pip install pandas\n",
    "!pip install utils\n",
    "\n",
    "# scihub requirements\n",
    "!pip install beautifulsoup4\n",
    "!pip install requests\n",
    "!pip install retrying\n",
    "!pip install pysocks\n"
   ]
  },
  {
   "cell_type": "markdown",
   "id": "4618f33a",
   "metadata": {},
   "source": [
    "### Create pd dataframes from txt files downloaded from AACT"
   ]
  },
  {
   "cell_type": "code",
   "execution_count": 2,
   "id": "3ec4e7e9",
   "metadata": {
    "scrolled": true
   },
   "outputs": [],
   "source": [
    "import pandas as pd\n",
    "import os\n",
    "\n",
    "# get files from cwd\n",
    "cwd = os.getcwd()\n",
    "files = os.listdir(cwd)\n",
    "\n",
    "\n",
    "for file in files:\n",
    "    if file.endswith('.txt'):\n",
    "        name = file.rsplit('.',1)[0]\n",
    "        if name == 'study_records':\n",
    "            continue\n",
    "        vars()[name] = pd.read_csv(file, delimiter='|', low_memory=False)\n"
   ]
  },
  {
   "cell_type": "markdown",
   "id": "630d4568",
   "metadata": {},
   "source": [
    "### Select which columns are useful for tokenization, this can be changed to find optimal LLM performance if needed"
   ]
  },
  {
   "cell_type": "code",
   "execution_count": 3,
   "id": "e04ad9b9",
   "metadata": {},
   "outputs": [],
   "source": [
    "# create dictionary for which columns to call\n",
    "\n",
    "tables = {\n",
    "    \"browse_conditions\" : ['nct_id', 'mesh_term'],\n",
    "    \"browse_interventions\" : ['nct_id', 'mesh_term'],\n",
    "    \"conditions\" : ['nct_id', 'name'],\n",
    "    \"countries\" : ['nct_id', 'name'],\n",
    "    \"design_groups\" : ['nct_id', 'group_type', 'title', 'description'],\n",
    "    \"designs\" : ['nct_id', 'allocation', 'intervention_model', 'observational_model', \n",
    "                 'primary_purpose', 'time_perspective', 'masking', 'masking_description', \n",
    "                 'intervention_model_description'],\n",
    "    \"detailed_descriptions\" : ['nct_id', 'description'],\n",
    "    \"eligibilities\" : ['nct_id', 'sampling_method', 'gender', 'minimum_age', \n",
    "                       'maximum_age', 'population', 'criteria', 'gender_description'],\n",
    "    \"facilities\" : ['nct_id', 'name', 'city', 'state', 'country'],\n",
    "    \"keywords\" : ['nct_id', 'name'],\n",
    "    \"sponsors\" : ['nct_id', 'agency_class', 'lead_or_collaborator', 'name'],\n",
    "    \"studies\" : ['nct_id', 'brief_title', 'official_title', 'overall_status', \n",
    "                 'phase', 'source', 'biospec_description', 'biospec_retention',  \n",
    "                 'plan_to_share_ipd_description'],\n",
    "    \"study_references\" : ['nct_id', 'pmid', 'citation']\n",
    "}"
   ]
  },
  {
   "cell_type": "markdown",
   "id": "2bf84f97",
   "metadata": {},
   "source": [
    "### Creates df with NCT ID and entire string of words to be used (exception: no pdfs yet)\n",
    "#### This will take a while"
   ]
  },
  {
   "cell_type": "code",
   "execution_count": 4,
   "id": "0ec06372",
   "metadata": {
    "scrolled": true
   },
   "outputs": [],
   "source": [
    "# check if there is multiple rows related to each NCT ID\n",
    "def duplicateNCT(dfName):\n",
    "    return not dfName[\"nct_id\"].is_unique\n",
    "\n",
    "# select columns that we care about, then concatenate strings from all rows with same NCT_ID\n",
    "def getRelevantData(dfName, relevantColumnList, dfOriginal):\n",
    "    \n",
    "    df = dfName[relevantColumnList].copy()\n",
    "    \n",
    "\n",
    "    # concatenate if needed\n",
    "    if duplicateNCT(dfName) == True:\n",
    "        for col in relevantColumnList:\n",
    "            if col == 'nct_id':\n",
    "                continue\n",
    "            df[col] = df[col].astype(str)\n",
    "            df[col] = df.groupby(['nct_id'])[col].transform(lambda x : ' '.join(x))\n",
    "            \n",
    "    df = df.drop_duplicates()\n",
    "    \n",
    "    # join new columns into main DF\n",
    "    dfCombined = dfOriginal.join(df.set_index('nct_id'), on='nct_id')\n",
    "    return dfCombined\n",
    "\n",
    "def mergeColumns(relevantColumnList, dfOriginal):\n",
    "    # merge all columns to the right of NCT column\n",
    "    dfOriginal['words'] = dfOriginal[dfOriginal.columns[1:]].apply(lambda x: '. '.join(x.astype(str)), axis=1)\n",
    "    \n",
    "    # delete columns that were merged\n",
    "    for col in relevantColumnList:\n",
    "        if col == 'nct_id':\n",
    "            continue\n",
    "        dfOriginal = dfOriginal.drop(col, axis=1)    \n",
    "    return dfOriginal\n",
    "\n",
    "\n",
    "#initialize LLM DF (protocols only - NO results)\n",
    "trainingDF = brief_summaries[['nct_id','description']].copy()\n",
    "trainingDF = trainingDF.rename(columns={'description': 'words'})\n",
    "\n",
    "# add all this shit together\n",
    "for key in tables:\n",
    "    trainingDF = getRelevantData(locals()[key], tables[key], trainingDF)\n",
    "    trainingDF = mergeColumns(tables[key], trainingDF)\n"
   ]
  },
  {
   "cell_type": "markdown",
   "id": "01845420",
   "metadata": {},
   "source": [
    "### Create separate DOI df using only the study references table\n",
    "#### a lot faster"
   ]
  },
  {
   "cell_type": "code",
   "execution_count": 5,
   "id": "3486dff1",
   "metadata": {},
   "outputs": [],
   "source": [
    "doiDF = trainingDF[['nct_id']].copy()\n",
    "doiDF = getRelevantData(locals()[\"study_references\"], tables[\"study_references\"], doiDF)\n",
    "doiDF = doiDF[doiDF['citation'].notna()]"
   ]
  },
  {
   "cell_type": "markdown",
   "id": "9908f71e",
   "metadata": {},
   "source": [
    "### Get DOI link, validate it, and use Sci Hub to scrape it"
   ]
  },
  {
   "cell_type": "code",
   "execution_count": 1,
   "id": "2bee06f1",
   "metadata": {},
   "outputs": [
    {
     "ename": "NameError",
     "evalue": "name 'doiDF' is not defined",
     "output_type": "error",
     "traceback": [
      "\u001b[1;31m---------------------------------------------------------------------------\u001b[0m",
      "\u001b[1;31mNameError\u001b[0m                                 Traceback (most recent call last)",
      "\u001b[1;32m~\\AppData\\Local\\Temp\\ipykernel_13376\\231893376.py\u001b[0m in \u001b[0;36m<module>\u001b[1;34m\u001b[0m\n\u001b[0;32m      3\u001b[0m \u001b[1;33m\u001b[0m\u001b[0m\n\u001b[0;32m      4\u001b[0m \u001b[0mcount\u001b[0m \u001b[1;33m=\u001b[0m \u001b[1;36m0\u001b[0m\u001b[1;33m\u001b[0m\u001b[1;33m\u001b[0m\u001b[0m\n\u001b[1;32m----> 5\u001b[1;33m \u001b[1;32mfor\u001b[0m \u001b[0mindex\u001b[0m\u001b[1;33m,\u001b[0m \u001b[0mrow\u001b[0m \u001b[1;32min\u001b[0m \u001b[0mdoiDF\u001b[0m\u001b[1;33m.\u001b[0m\u001b[0miterrows\u001b[0m\u001b[1;33m(\u001b[0m\u001b[1;33m)\u001b[0m\u001b[1;33m:\u001b[0m\u001b[1;33m\u001b[0m\u001b[1;33m\u001b[0m\u001b[0m\n\u001b[0m\u001b[0;32m      6\u001b[0m     \u001b[0mcount\u001b[0m \u001b[1;33m+=\u001b[0m \u001b[1;36m1\u001b[0m\u001b[1;33m\u001b[0m\u001b[1;33m\u001b[0m\u001b[0m\n\u001b[0;32m      7\u001b[0m     \u001b[0mstr\u001b[0m \u001b[1;33m=\u001b[0m \u001b[0mrow\u001b[0m\u001b[1;33m[\u001b[0m\u001b[1;34m'citation'\u001b[0m\u001b[1;33m]\u001b[0m\u001b[1;33m\u001b[0m\u001b[1;33m\u001b[0m\u001b[0m\n",
      "\u001b[1;31mNameError\u001b[0m: name 'doiDF' is not defined"
     ]
    }
   ],
   "source": [
    "from scihub import SciHub\n",
    "\n",
    "\n",
    "count = 0\n",
    "for index, row in doiDF.iterrows():\n",
    "    count += 1\n",
    "    str = row['citation']\n",
    "    ls = str.split()\n",
    "    for i in range(len(ls)):\n",
    "        if ls[i] == 'doi:':\n",
    "            link = ls[i + 1] \n",
    "    #print(link)\n",
    "\n",
    "print(count)"
   ]
  },
  {
   "cell_type": "code",
   "execution_count": null,
   "id": "6bcd7727",
   "metadata": {},
   "outputs": [],
   "source": []
  }
 ],
 "metadata": {
  "kernelspec": {
   "display_name": "Python 3",
   "language": "python",
   "name": "python3"
  },
  "language_info": {
   "codemirror_mode": {
    "name": "ipython",
    "version": 3
   },
   "file_extension": ".py",
   "mimetype": "text/x-python",
   "name": "python",
   "nbconvert_exporter": "python",
   "pygments_lexer": "ipython3",
   "version": "3.9.13"
  },
  "widgets": {
   "application/vnd.jupyter.widget-state+json": {
    "state": {},
    "version_major": 2,
    "version_minor": 0
   }
  }
 },
 "nbformat": 4,
 "nbformat_minor": 5
}
